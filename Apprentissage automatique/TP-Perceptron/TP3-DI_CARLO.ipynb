{
 "cells": [
  {
   "cell_type": "markdown",
   "metadata": {},
   "source": [
    "# MLP: Perceptron, perceptron multi-couches\n",
    "## Préparation des données\n",
    "On va prendre 100 exemples pour le corpus d'évaluation et les 335 autres en tant que corpus d'apprentissage"
   ]
  },
  {
   "cell_type": "code",
   "execution_count": 1,
   "metadata": {
    "collapsed": false,
    "scrolled": true
   },
   "outputs": [
    {
     "data": {
      "text/html": [
       "<div>\n",
       "<table border=\"1\" class=\"dataframe\">\n",
       "  <thead>\n",
       "    <tr style=\"text-align: right;\">\n",
       "      <th></th>\n",
       "      <th>parti</th>\n",
       "      <th>v1</th>\n",
       "      <th>v2</th>\n",
       "      <th>v3</th>\n",
       "      <th>v4</th>\n",
       "      <th>v5</th>\n",
       "      <th>v6</th>\n",
       "      <th>v7</th>\n",
       "      <th>v8</th>\n",
       "      <th>v9</th>\n",
       "      <th>v10</th>\n",
       "      <th>v11</th>\n",
       "      <th>v12</th>\n",
       "      <th>v13</th>\n",
       "      <th>v14</th>\n",
       "      <th>v15</th>\n",
       "      <th>v16</th>\n",
       "    </tr>\n",
       "  </thead>\n",
       "  <tbody>\n",
       "    <tr>\n",
       "      <th>0</th>\n",
       "      <td>-1</td>\n",
       "      <td>1</td>\n",
       "      <td>1</td>\n",
       "      <td>1</td>\n",
       "      <td>1</td>\n",
       "      <td>1</td>\n",
       "      <td>-1</td>\n",
       "      <td>1</td>\n",
       "      <td>-1</td>\n",
       "      <td>-1</td>\n",
       "      <td>-1</td>\n",
       "      <td>-1</td>\n",
       "      <td>1</td>\n",
       "      <td>1</td>\n",
       "      <td>1</td>\n",
       "      <td>-1</td>\n",
       "      <td>1</td>\n",
       "    </tr>\n",
       "    <tr>\n",
       "      <th>1</th>\n",
       "      <td>-1</td>\n",
       "      <td>-1</td>\n",
       "      <td>1</td>\n",
       "      <td>-1</td>\n",
       "      <td>1</td>\n",
       "      <td>1</td>\n",
       "      <td>1</td>\n",
       "      <td>-1</td>\n",
       "      <td>-1</td>\n",
       "      <td>-1</td>\n",
       "      <td>-1</td>\n",
       "      <td>-1</td>\n",
       "      <td>0</td>\n",
       "      <td>1</td>\n",
       "      <td>1</td>\n",
       "      <td>-1</td>\n",
       "      <td>-1</td>\n",
       "    </tr>\n",
       "    <tr>\n",
       "      <th>2</th>\n",
       "      <td>1</td>\n",
       "      <td>1</td>\n",
       "      <td>0</td>\n",
       "      <td>1</td>\n",
       "      <td>-1</td>\n",
       "      <td>0</td>\n",
       "      <td>0</td>\n",
       "      <td>1</td>\n",
       "      <td>1</td>\n",
       "      <td>1</td>\n",
       "      <td>-1</td>\n",
       "      <td>-1</td>\n",
       "      <td>-1</td>\n",
       "      <td>-1</td>\n",
       "      <td>-1</td>\n",
       "      <td>1</td>\n",
       "      <td>0</td>\n",
       "    </tr>\n",
       "    <tr>\n",
       "      <th>3</th>\n",
       "      <td>-1</td>\n",
       "      <td>-1</td>\n",
       "      <td>1</td>\n",
       "      <td>-1</td>\n",
       "      <td>1</td>\n",
       "      <td>1</td>\n",
       "      <td>-1</td>\n",
       "      <td>-1</td>\n",
       "      <td>-1</td>\n",
       "      <td>-1</td>\n",
       "      <td>-1</td>\n",
       "      <td>0</td>\n",
       "      <td>0</td>\n",
       "      <td>1</td>\n",
       "      <td>1</td>\n",
       "      <td>-1</td>\n",
       "      <td>-1</td>\n",
       "    </tr>\n",
       "    <tr>\n",
       "      <th>4</th>\n",
       "      <td>1</td>\n",
       "      <td>1</td>\n",
       "      <td>-1</td>\n",
       "      <td>1</td>\n",
       "      <td>-1</td>\n",
       "      <td>-1</td>\n",
       "      <td>1</td>\n",
       "      <td>1</td>\n",
       "      <td>1</td>\n",
       "      <td>1</td>\n",
       "      <td>-1</td>\n",
       "      <td>-1</td>\n",
       "      <td>-1</td>\n",
       "      <td>-1</td>\n",
       "      <td>1</td>\n",
       "      <td>-1</td>\n",
       "      <td>0</td>\n",
       "    </tr>\n",
       "  </tbody>\n",
       "</table>\n",
       "</div>"
      ],
      "text/plain": [
       "   parti  v1  v2  v3  v4  v5  v6  v7  v8  v9  v10  v11  v12  v13  v14  v15  \\\n",
       "0     -1   1   1   1   1   1  -1   1  -1  -1   -1   -1    1    1    1   -1   \n",
       "1     -1  -1   1  -1   1   1   1  -1  -1  -1   -1   -1    0    1    1   -1   \n",
       "2      1   1   0   1  -1   0   0   1   1   1   -1   -1   -1   -1   -1    1   \n",
       "3     -1  -1   1  -1   1   1  -1  -1  -1  -1   -1    0    0    1    1   -1   \n",
       "4      1   1  -1   1  -1  -1   1   1   1   1   -1   -1   -1   -1    1   -1   \n",
       "\n",
       "   v16  \n",
       "0    1  \n",
       "1   -1  \n",
       "2    0  \n",
       "3   -1  \n",
       "4    0  "
      ]
     },
     "execution_count": 1,
     "metadata": {},
     "output_type": "execute_result"
    }
   ],
   "source": [
    "import pandas as pd\n",
    "import numpy as np\n",
    "import matplotlib.pyplot as plt\n",
    "\n",
    "votes = pd.read_csv('votes.csv')\n",
    "votes.head()\n",
    "\n",
    "#Mélange des données et remplace les valeurs par des valeurs numériques\n",
    "#1=democrat - -1=republican\n",
    "votesSuffle = votes.sample(frac=1).reset_index(drop=True).replace(['y','n','?','democrat','republican'],[1,-1,0,1,-1])\n",
    "\n",
    "votesSuffle.head()"
   ]
  },
  {
   "cell_type": "code",
   "execution_count": 2,
   "metadata": {
    "collapsed": true
   },
   "outputs": [],
   "source": [
    "#On prend les 100 premiers pour le corpus d'évaluation et les 335 dernières pour l'apprentissage\n",
    "votesEval = votesSuffle.head(100)\n",
    "votesApp = votesSuffle.tail(335).reset_index(drop=True)\n",
    "\n",
    "#df.iloc[row,column]"
   ]
  },
  {
   "cell_type": "markdown",
   "metadata": {},
   "source": [
    "## Etiquette d’une observation à partir d’un vecteur de poids"
   ]
  },
  {
   "cell_type": "code",
   "execution_count": 3,
   "metadata": {
    "collapsed": true
   },
   "outputs": [],
   "source": [
    "#Fonction qui pour un vecteur de poids w et un vecteur x contenant les votes d'une personne retourne son parti politique\n",
    "def classify(w,x):\n",
    "    f = 0\n",
    "    \n",
    "    for i in range(0,(len(w))):\n",
    "        f += w[i]*x[i]\n",
    "                   \n",
    "    if f < 0:\n",
    "        return -1\n",
    "    else:\n",
    "        return 1"
   ]
  },
  {
   "cell_type": "markdown",
   "metadata": {},
   "source": [
    "## Calcul d'un taux d'erreur"
   ]
  },
  {
   "cell_type": "code",
   "execution_count": 4,
   "metadata": {
    "collapsed": true
   },
   "outputs": [],
   "source": [
    "#Fonction qui pour un vecteur de poids et un corpus renvoie son taux d'erreur\n",
    "def test(w,corpus):\n",
    "    nbErr = 0\n",
    "    target = corpus.get('parti')\n",
    "    for row in range(0,len(corpus)):\n",
    "        x = []\n",
    "        #On créé le vecteur de vote d'une personne\n",
    "        for i in range(1,17):\n",
    "            x.append(corpus.iloc[row,i])\n",
    "        #Seuil\n",
    "        x.append(1)\n",
    "        #On regarde si la valeur prédite est égale ou non à la valeur réelle\n",
    "        if classify(w,x) != target[row]:\n",
    "            nbErr += 1\n",
    "            \n",
    "    #Calcul et retour du pourcentage d'erreur\n",
    "    return ((nbErr/len(corpus))*100)"
   ]
  },
  {
   "cell_type": "markdown",
   "metadata": {},
   "source": [
    "## Implémentation du perceptron !\n",
    "Soit on arrête l'algo de correction au bout de N répétitions soit lorsque le taux d'erreur est inférieur ou égal à un taux prédéfini."
   ]
  },
  {
   "cell_type": "code",
   "execution_count": 5,
   "metadata": {
    "collapsed": false
   },
   "outputs": [
    {
     "data": {
      "image/png": "[encoded data removed]",
      "text/plain": [
       "<matplotlib.figure.Figure at 0x1043fb8d0>"
      ]
     },
     "metadata": {},
     "output_type": "display_data"
    },
    {
     "data": {
      "image/png": "[encoded data removed]",
      "text/plain": [
       "<matplotlib.figure.Figure at 0x1043994e0>"
      ]
     },
     "metadata": {},
     "output_type": "display_data"
    }
   ],
   "source": [
    "def correction(o,t,w,x,seuil,coeff):\n",
    "    newW = []\n",
    "    for y in range(0,(len(w)-1)):\n",
    "        newW.append(w[y] + (((t-o)*x[y])/2)*coeff)\n",
    "    newW.append(seuil)\n",
    "    \n",
    "    return newW\n",
    "\n",
    "def tracage(titre,err,ite):\n",
    "    plt.plot(ite,err)\n",
    "    plt.title(titre)\n",
    "    plt.xlabel(\"Epoques\")\n",
    "    plt.ylabel(\"Taux d'erreurs\")\n",
    "    plt.show()\n",
    "\n",
    "def trainNbIterationMax(N):\n",
    "    seuil = 1\n",
    "    w = [1,1,1,1,1,1,1,1,1,1,1,1,1,1,1,1,seuil]\n",
    "    PourcErrMin = 1.0\n",
    "    PourcErr = 100.0\n",
    "    nEtape = 0\n",
    "    nEpoque = 0\n",
    "    corpus = votesApp\n",
    "    tabPourcErr = []\n",
    "    iterations = []\n",
    "    coeff = 0.5\n",
    "    \n",
    "    #On répète N fois l'algo de correction\n",
    "    for i in range(0,N):\n",
    "        target = corpus.get('parti')\n",
    "        \n",
    "        PourcErr = round(test(w, corpus),2)\n",
    "        iterations.append(nEpoque)\n",
    "        tabPourcErr.append(PourcErr)\n",
    "           \n",
    "        #Pour chaque personne qui a voté dans le corpus\n",
    "        for row in range(0,len(corpus)):\n",
    "            x = []\n",
    "            #On créé le vecteur de vote d'une personne\n",
    "            for i in range(1,17):\n",
    "                x.append(corpus.iloc[row,i])\n",
    "            #Seuil\n",
    "            x.append(1)\n",
    "\n",
    "            o = classify(w,x)\n",
    "            t = target[row]\n",
    "            #On applique la correction: wt+1 = wt+(t-o)x\n",
    "            w = correction(o,t,w,x,seuil,coeff)\n",
    "            if o!=t:\n",
    "                nEtape += 1\n",
    "            \n",
    "        nEpoque += 1\n",
    "        \n",
    "    #Tracer de la courbe d'avancement de l'apprentissage\n",
    "    tracage(\"Epoques Max\",tabPourcErr,iterations)\n",
    "    #print(nEtape)\n",
    "    \n",
    "    return w\n",
    "    \n",
    "def trainPourcMin(PourcErrMin):\n",
    "    seuil = 1\n",
    "    w = [1,1,1,1,1,1,1,1,1,1,1,1,1,1,1,1,seuil]\n",
    "    PourcErr = 100.0\n",
    "    nEtape = 0\n",
    "    nEpoque = 0\n",
    "    corpus = votesApp\n",
    "    tabPourcErr = []\n",
    "    iterations = []\n",
    "    coeff = 0.5\n",
    "    \n",
    "    #On repete l'algo tant qu'on a pas atteint le taux d'erreur demandé\n",
    "    while PourcErr > PourcErrMin:\n",
    "        target = corpus.get('parti')\n",
    "        \n",
    "        PourcErr = round(test(w, corpus),2)\n",
    "        iterations.append(nEpoque)\n",
    "        tabPourcErr.append(PourcErr)\n",
    "\n",
    "        for row in range(0,len(corpus)):\n",
    "            x = []\n",
    "            #On créé le vecteur de vote d'une personne\n",
    "            for i in range(1,17):\n",
    "                x.append(corpus.iloc[row,i])\n",
    "            #Seuil\n",
    "            x.append(1)\n",
    "\n",
    "            o = classify(w,x)\n",
    "            t = target[row]\n",
    "            #On applique la correction: wt+1 = wt+(t-o)x\n",
    "            w = correction(o,t,w,x,seuil,coeff)\n",
    "            if o!=t:\n",
    "                nEtape += 1\n",
    "            \n",
    "        nEpoque += 1\n",
    "        \n",
    "    #Tracer de la courbe d'avancement de l'apprentissage\n",
    "    tracage(\"Pourcentage Minimum\",tabPourcErr,iterations)\n",
    "    #print(nEtape)\n",
    "    \n",
    "    return w\n",
    "\n",
    "wVector1 = trainNbIterationMax(10)        \n",
    "wVector2 = trainPourcMin(3.0)"
   ]
  },
  {
   "cell_type": "markdown",
   "metadata": {
    "collapsed": true
   },
   "source": [
    "## Application du perceptron sur le corpus de 350 éléments"
   ]
  },
  {
   "cell_type": "code",
   "execution_count": 6,
   "metadata": {
    "collapsed": false
   },
   "outputs": [
    {
     "name": "stdout",
     "output_type": "stream",
     "text": [
      "Pourcentage d'erreur sur le corpus de validation avec un nb d'itération max:  9.0 %.\n",
      "Pourcentage d'erreur sur le corpus de validation avec Pourcentage Minimum:  8.0 %.\n"
     ]
    }
   ],
   "source": [
    "print(\"Pourcentage d'erreur sur le corpus de validation avec un nb d'itération max: \", round(test(wVector1,votesEval),2),\"%.\")\n",
    "print(\"Pourcentage d'erreur sur le corpus de validation avec Pourcentage Minimum: \", round(test(wVector2,votesEval),2),\"%.\")"
   ]
  },
  {
   "cell_type": "markdown",
   "metadata": {
    "collapsed": true
   },
   "source": [
    "J'ai choisi dans mon algorithme de correction de continuer à évaluer les valeurs du corpus si une erreur se présente, j'aurai aussi pu choisir de reprendre le corpus à zéro."
   ]
  },
  {
   "cell_type": "markdown",
   "metadata": {},
   "source": [
    "Nous avons des taux d'erreurs corrects. Pour avoir un taux d'erreur de 0 pour le corpus d'apprentissage il faudrait réduire ce corpus autour de 100 valeurs, ainsi il serait linéairement séparable. De plus pour que le vecteur de poids oscille moins vite j'ai appliqué un learningRate de 0,5. On pourrai appliquer ce learning rate lorque l'on se rapproche du taux d'erreur attendu."
   ]
  },
  {
   "cell_type": "code",
   "execution_count": null,
   "metadata": {
    "collapsed": true
   },
   "outputs": [],
   "source": []
  }
 ],
 "metadata": {
  "kernelspec": {
   "display_name": "Python 3",
   "language": "python",
   "name": "python3"
  },
  "language_info": {
   "codemirror_mode": {
    "name": "ipython",
    "version": 3
   },
   "file_extension": ".py",
   "mimetype": "text/x-python",
   "name": "python",
   "nbconvert_exporter": "python",
   "pygments_lexer": "ipython3",
   "version": "3.5.2"
  }
 },
 "nbformat": 4,
 "nbformat_minor": 2
}
